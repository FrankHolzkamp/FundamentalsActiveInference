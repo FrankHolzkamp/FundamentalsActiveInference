{
  "cells": [
    {
      "cell_type": "markdown",
      "metadata": {
        "id": "view-in-github",
        "colab_type": "text"
      },
      "source": [
        "<a href=\"https://colab.research.google.com/github/FrankHolzkamp/FundamentalsActiveInference/blob/main/2a_noisy_generative_process.ipynb\" target=\"_parent\"><img src=\"https://colab.research.google.com/assets/colab-badge.svg\" alt=\"Open In Colab\"/></a>"
      ]
    },
    {
      "cell_type": "markdown",
      "metadata": {
        "id": "JNHQuNqe6id7"
      },
      "source": [
        "# Noisy generative processes (Chapter 2)\n",
        "\n",
        "Creates the plot at the beginning of Chapter 2 showing how you can add noise to a linear function to generate points normally distributed across a line.\n",
        "\n",
        "* **Content**: Jupyter notebook accompanying Chapter 2 of the textbook \"Fundamentals of Active Inference\"\n",
        "\n",
        "* **Author**: Sanjeev Namjoshi (sanjeev.namjoshi@gmail.com)\n",
        "\n",
        "* **Version**: 0.1\n",
        "\n",
        "*This Jupyter notebook should only be distributed to members of the \"Fundamentals of Active Inference\" reading group hosted by the Active Inference Institute.*\n",
        "\n",
        "Package versions:\n",
        "* matplotlib==3.5.3\n",
        "* numpy==1.21.5\n",
        "* pandas==1.5.1\n",
        "* pyro-ppl==1.8.4\n",
        "* pytorch==1.13.1"
      ]
    },
    {
      "cell_type": "code",
      "execution_count": 3,
      "metadata": {
        "id": "5GLuqeEV6id-"
      },
      "outputs": [],
      "source": [
        "%matplotlib inline"
      ]
    },
    {
      "cell_type": "code",
      "source": [
        "pip install pyro-ppl"
      ],
      "metadata": {
        "id": "0AxTTM737Shw",
        "outputId": "9a8c0d2e-8ca0-44a2-cc72-721ceb5180f9",
        "colab": {
          "base_uri": "https://localhost:8080/"
        }
      },
      "execution_count": 4,
      "outputs": [
        {
          "output_type": "stream",
          "name": "stdout",
          "text": [
            "Collecting pyro-ppl\n",
            "  Downloading pyro_ppl-1.9.0-py3-none-any.whl (745 kB)\n",
            "\u001b[?25l     \u001b[90m━━━━━━━━━━━━━━━━━━━━━━━━━━━━━━━━━━━━━━━━\u001b[0m \u001b[32m0.0/745.2 kB\u001b[0m \u001b[31m?\u001b[0m eta \u001b[36m-:--:--\u001b[0m\r\u001b[2K     \u001b[91m━━━━━━━━\u001b[0m\u001b[91m╸\u001b[0m\u001b[90m━━━━━━━━━━━━━━━━━━━━━━━━━━━━━━━\u001b[0m \u001b[32m163.8/745.2 kB\u001b[0m \u001b[31m4.8 MB/s\u001b[0m eta \u001b[36m0:00:01\u001b[0m\r\u001b[2K     \u001b[91m━━━━━━━━━━━━━━━━━━━━━━━━━━━━\u001b[0m\u001b[91m╸\u001b[0m\u001b[90m━━━━━━━━━━━\u001b[0m \u001b[32m532.5/745.2 kB\u001b[0m \u001b[31m7.6 MB/s\u001b[0m eta \u001b[36m0:00:01\u001b[0m\r\u001b[2K     \u001b[90m━━━━━━━━━━━━━━━━━━━━━━━━━━━━━━━━━━━━━━━━\u001b[0m \u001b[32m745.2/745.2 kB\u001b[0m \u001b[31m7.4 MB/s\u001b[0m eta \u001b[36m0:00:00\u001b[0m\n",
            "\u001b[?25hRequirement already satisfied: numpy>=1.7 in /usr/local/lib/python3.10/dist-packages (from pyro-ppl) (1.25.2)\n",
            "Requirement already satisfied: opt-einsum>=2.3.2 in /usr/local/lib/python3.10/dist-packages (from pyro-ppl) (3.3.0)\n",
            "Collecting pyro-api>=0.1.1 (from pyro-ppl)\n",
            "  Downloading pyro_api-0.1.2-py3-none-any.whl (11 kB)\n",
            "Requirement already satisfied: torch>=2.0 in /usr/local/lib/python3.10/dist-packages (from pyro-ppl) (2.2.1+cu121)\n",
            "Requirement already satisfied: tqdm>=4.36 in /usr/local/lib/python3.10/dist-packages (from pyro-ppl) (4.66.2)\n",
            "Requirement already satisfied: filelock in /usr/local/lib/python3.10/dist-packages (from torch>=2.0->pyro-ppl) (3.13.3)\n",
            "Requirement already satisfied: typing-extensions>=4.8.0 in /usr/local/lib/python3.10/dist-packages (from torch>=2.0->pyro-ppl) (4.10.0)\n",
            "Requirement already satisfied: sympy in /usr/local/lib/python3.10/dist-packages (from torch>=2.0->pyro-ppl) (1.12)\n",
            "Requirement already satisfied: networkx in /usr/local/lib/python3.10/dist-packages (from torch>=2.0->pyro-ppl) (3.2.1)\n",
            "Requirement already satisfied: jinja2 in /usr/local/lib/python3.10/dist-packages (from torch>=2.0->pyro-ppl) (3.1.3)\n",
            "Requirement already satisfied: fsspec in /usr/local/lib/python3.10/dist-packages (from torch>=2.0->pyro-ppl) (2023.6.0)\n",
            "Collecting nvidia-cuda-nvrtc-cu12==12.1.105 (from torch>=2.0->pyro-ppl)\n",
            "  Downloading nvidia_cuda_nvrtc_cu12-12.1.105-py3-none-manylinux1_x86_64.whl (23.7 MB)\n",
            "\u001b[2K     \u001b[90m━━━━━━━━━━━━━━━━━━━━━━━━━━━━━━━━━━━━━━━━\u001b[0m \u001b[32m23.7/23.7 MB\u001b[0m \u001b[31m28.1 MB/s\u001b[0m eta \u001b[36m0:00:00\u001b[0m\n",
            "\u001b[?25hCollecting nvidia-cuda-runtime-cu12==12.1.105 (from torch>=2.0->pyro-ppl)\n",
            "  Downloading nvidia_cuda_runtime_cu12-12.1.105-py3-none-manylinux1_x86_64.whl (823 kB)\n",
            "\u001b[2K     \u001b[90m━━━━━━━━━━━━━━━━━━━━━━━━━━━━━━━━━━━━━━━━\u001b[0m \u001b[32m823.6/823.6 kB\u001b[0m \u001b[31m33.7 MB/s\u001b[0m eta \u001b[36m0:00:00\u001b[0m\n",
            "\u001b[?25hCollecting nvidia-cuda-cupti-cu12==12.1.105 (from torch>=2.0->pyro-ppl)\n",
            "  Downloading nvidia_cuda_cupti_cu12-12.1.105-py3-none-manylinux1_x86_64.whl (14.1 MB)\n",
            "\u001b[2K     \u001b[90m━━━━━━━━━━━━━━━━━━━━━━━━━━━━━━━━━━━━━━━━\u001b[0m \u001b[32m14.1/14.1 MB\u001b[0m \u001b[31m50.2 MB/s\u001b[0m eta \u001b[36m0:00:00\u001b[0m\n",
            "\u001b[?25hCollecting nvidia-cudnn-cu12==8.9.2.26 (from torch>=2.0->pyro-ppl)\n",
            "  Downloading nvidia_cudnn_cu12-8.9.2.26-py3-none-manylinux1_x86_64.whl (731.7 MB)\n",
            "\u001b[2K     \u001b[90m━━━━━━━━━━━━━━━━━━━━━━━━━━━━━━━━━━━━━━━━\u001b[0m \u001b[32m731.7/731.7 MB\u001b[0m \u001b[31m781.4 kB/s\u001b[0m eta \u001b[36m0:00:00\u001b[0m\n",
            "\u001b[?25hCollecting nvidia-cublas-cu12==12.1.3.1 (from torch>=2.0->pyro-ppl)\n",
            "  Downloading nvidia_cublas_cu12-12.1.3.1-py3-none-manylinux1_x86_64.whl (410.6 MB)\n",
            "\u001b[2K     \u001b[90m━━━━━━━━━━━━━━━━━━━━━━━━━━━━━━━━━━━━━━━━\u001b[0m \u001b[32m410.6/410.6 MB\u001b[0m \u001b[31m3.2 MB/s\u001b[0m eta \u001b[36m0:00:00\u001b[0m\n",
            "\u001b[?25hCollecting nvidia-cufft-cu12==11.0.2.54 (from torch>=2.0->pyro-ppl)\n",
            "  Downloading nvidia_cufft_cu12-11.0.2.54-py3-none-manylinux1_x86_64.whl (121.6 MB)\n",
            "\u001b[2K     \u001b[90m━━━━━━━━━━━━━━━━━━━━━━━━━━━━━━━━━━━━━━━━\u001b[0m \u001b[32m121.6/121.6 MB\u001b[0m \u001b[31m7.6 MB/s\u001b[0m eta \u001b[36m0:00:00\u001b[0m\n",
            "\u001b[?25hCollecting nvidia-curand-cu12==10.3.2.106 (from torch>=2.0->pyro-ppl)\n",
            "  Downloading nvidia_curand_cu12-10.3.2.106-py3-none-manylinux1_x86_64.whl (56.5 MB)\n",
            "\u001b[2K     \u001b[90m━━━━━━━━━━━━━━━━━━━━━━━━━━━━━━━━━━━━━━━━\u001b[0m \u001b[32m56.5/56.5 MB\u001b[0m \u001b[31m13.9 MB/s\u001b[0m eta \u001b[36m0:00:00\u001b[0m\n",
            "\u001b[?25hCollecting nvidia-cusolver-cu12==11.4.5.107 (from torch>=2.0->pyro-ppl)\n",
            "  Downloading nvidia_cusolver_cu12-11.4.5.107-py3-none-manylinux1_x86_64.whl (124.2 MB)\n",
            "\u001b[2K     \u001b[90m━━━━━━━━━━━━━━━━━━━━━━━━━━━━━━━━━━━━━━━━\u001b[0m \u001b[32m124.2/124.2 MB\u001b[0m \u001b[31m7.9 MB/s\u001b[0m eta \u001b[36m0:00:00\u001b[0m\n",
            "\u001b[?25hCollecting nvidia-cusparse-cu12==12.1.0.106 (from torch>=2.0->pyro-ppl)\n",
            "  Downloading nvidia_cusparse_cu12-12.1.0.106-py3-none-manylinux1_x86_64.whl (196.0 MB)\n",
            "\u001b[2K     \u001b[90m━━━━━━━━━━━━━━━━━━━━━━━━━━━━━━━━━━━━━━━━\u001b[0m \u001b[32m196.0/196.0 MB\u001b[0m \u001b[31m3.2 MB/s\u001b[0m eta \u001b[36m0:00:00\u001b[0m\n",
            "\u001b[?25hCollecting nvidia-nccl-cu12==2.19.3 (from torch>=2.0->pyro-ppl)\n",
            "  Downloading nvidia_nccl_cu12-2.19.3-py3-none-manylinux1_x86_64.whl (166.0 MB)\n",
            "\u001b[2K     \u001b[90m━━━━━━━━━━━━━━━━━━━━━━━━━━━━━━━━━━━━━━━━\u001b[0m \u001b[32m166.0/166.0 MB\u001b[0m \u001b[31m2.5 MB/s\u001b[0m eta \u001b[36m0:00:00\u001b[0m\n",
            "\u001b[?25hCollecting nvidia-nvtx-cu12==12.1.105 (from torch>=2.0->pyro-ppl)\n",
            "  Downloading nvidia_nvtx_cu12-12.1.105-py3-none-manylinux1_x86_64.whl (99 kB)\n",
            "\u001b[2K     \u001b[90m━━━━━━━━━━━━━━━━━━━━━━━━━━━━━━━━━━━━━━━━\u001b[0m \u001b[32m99.1/99.1 kB\u001b[0m \u001b[31m9.8 MB/s\u001b[0m eta \u001b[36m0:00:00\u001b[0m\n",
            "\u001b[?25hRequirement already satisfied: triton==2.2.0 in /usr/local/lib/python3.10/dist-packages (from torch>=2.0->pyro-ppl) (2.2.0)\n",
            "Collecting nvidia-nvjitlink-cu12 (from nvidia-cusolver-cu12==11.4.5.107->torch>=2.0->pyro-ppl)\n",
            "  Downloading nvidia_nvjitlink_cu12-12.4.99-py3-none-manylinux2014_x86_64.whl (21.1 MB)\n",
            "\u001b[2K     \u001b[90m━━━━━━━━━━━━━━━━━━━━━━━━━━━━━━━━━━━━━━━━\u001b[0m \u001b[32m21.1/21.1 MB\u001b[0m \u001b[31m54.4 MB/s\u001b[0m eta \u001b[36m0:00:00\u001b[0m\n",
            "\u001b[?25hRequirement already satisfied: MarkupSafe>=2.0 in /usr/local/lib/python3.10/dist-packages (from jinja2->torch>=2.0->pyro-ppl) (2.1.5)\n",
            "Requirement already satisfied: mpmath>=0.19 in /usr/local/lib/python3.10/dist-packages (from sympy->torch>=2.0->pyro-ppl) (1.3.0)\n",
            "Installing collected packages: pyro-api, nvidia-nvtx-cu12, nvidia-nvjitlink-cu12, nvidia-nccl-cu12, nvidia-curand-cu12, nvidia-cufft-cu12, nvidia-cuda-runtime-cu12, nvidia-cuda-nvrtc-cu12, nvidia-cuda-cupti-cu12, nvidia-cublas-cu12, nvidia-cusparse-cu12, nvidia-cudnn-cu12, nvidia-cusolver-cu12, pyro-ppl\n",
            "Successfully installed nvidia-cublas-cu12-12.1.3.1 nvidia-cuda-cupti-cu12-12.1.105 nvidia-cuda-nvrtc-cu12-12.1.105 nvidia-cuda-runtime-cu12-12.1.105 nvidia-cudnn-cu12-8.9.2.26 nvidia-cufft-cu12-11.0.2.54 nvidia-curand-cu12-10.3.2.106 nvidia-cusolver-cu12-11.4.5.107 nvidia-cusparse-cu12-12.1.0.106 nvidia-nccl-cu12-2.19.3 nvidia-nvjitlink-cu12-12.4.99 nvidia-nvtx-cu12-12.1.105 pyro-api-0.1.2 pyro-ppl-1.9.0\n"
          ]
        }
      ]
    },
    {
      "cell_type": "code",
      "execution_count": 5,
      "metadata": {
        "id": "mCAlhpbS6id_",
        "outputId": "d3380834-dbb4-490f-be2d-e338477e0c04",
        "colab": {
          "base_uri": "https://localhost:8080/"
        }
      },
      "outputs": [
        {
          "output_type": "stream",
          "name": "stderr",
          "text": [
            "<ipython-input-5-baf33d6799ba>:10: MatplotlibDeprecationWarning: The seaborn styles shipped by Matplotlib are deprecated since 3.6, as they no longer correspond to the styles shipped by seaborn. However, they will remain available as 'seaborn-v0_8-<style>'. Alternatively, directly use the seaborn API instead.\n",
            "  mpl.style.use(\"seaborn-deep\")\n"
          ]
        }
      ],
      "source": [
        "import matplotlib.pyplot as plt\n",
        "import matplotlib as mpl\n",
        "import numpy as np\n",
        "\n",
        "import pandas as pd\n",
        "import torch\n",
        "\n",
        "from pyro.distributions import Normal\n",
        "\n",
        "mpl.style.use(\"seaborn-deep\")"
      ]
    },
    {
      "cell_type": "markdown",
      "metadata": {
        "id": "w4yICjg56id_"
      },
      "source": [
        "## Define the environment and helper functions\n",
        "\n",
        "First, generate 49 observations from the generative process by using the generating function $y = 2x+3$. The environment is defined in the example such that we have a number of different possible states the environment can be in (defined by `x_true`) and noise will be added to it with `y = Normal(loc=mu, scale=noise)`, where `mu` is the particular true state.\n",
        "\n",
        "Most of the details in this plot are explained later in Chapter 2, particularly in the notebook `2b_linear_generating_functions.ipynb`.\n",
        "\n",
        "**Note**: 49 points are chosen because later we make use of the `np.median()` function and we want an odd number of points so we can select a single value for the median."
      ]
    },
    {
      "cell_type": "code",
      "execution_count": 6,
      "metadata": {
        "id": "xCV7Bb6Z6ieA"
      },
      "outputs": [],
      "source": [
        "# Define the generating function\n",
        "def G(x, beta_0, beta_1):\n",
        "    y = beta_1 * x + beta_0\n",
        "    return y\n",
        "\n",
        "# Define the inverse generating function which can return the original state that generated the observation\n",
        "def G_inv(y, beta_0, beta_1):\n",
        "    x = (y - beta_0) / beta_1\n",
        "    return x\n",
        "\n",
        "# Define the sampling process\n",
        "def environment(n, x_range, noise, beta_0, beta_1):\n",
        "    np.random.seed(4932)\n",
        "    x_true = np.random.choice(x_range, size=n)\n",
        "    y_i = []\n",
        "    x_i = []\n",
        "    for state in x_true:\n",
        "        mu = G(state, beta_0=3, beta_1=2)\n",
        "        y = Normal(loc=mu, scale=noise).sample()\n",
        "        x_i.append(state.tolist())\n",
        "        y_i.append(y.tolist())\n",
        "    return y_i, x_i\n",
        "\n",
        "# Helper function to retreive y from input x based on sampled data points\n",
        "def x_y_mapping(x ,y, x_val):\n",
        "    samples = pd.DataFrame({\n",
        "        \"x\": x, \"y\": y\n",
        "    })\n",
        "\n",
        "    return samples[samples[\"x\"] == x_val][\"y\"].values[0]"
      ]
    },
    {
      "cell_type": "markdown",
      "metadata": {
        "id": "-Jc25NwF6ieA"
      },
      "source": [
        "## Generate the data to plot"
      ]
    },
    {
      "cell_type": "code",
      "execution_count": 7,
      "metadata": {
        "id": "pOqk4q2A6ieB"
      },
      "outputs": [],
      "source": [
        "# Define the grid (the range of values x can take)\n",
        "x_range = torch.linspace(start=0.01, end=5, steps=500)\n",
        "\n",
        "# Define standard deviation of noise\n",
        "noise=1\n",
        "\n",
        "# Generate the data and states (y, x)\n",
        "data, states = environment(\n",
        "    n=49,\n",
        "    x_range=x_range,\n",
        "    noise=noise,\n",
        "    beta_0=3,\n",
        "    beta_1=2)\n",
        "\n",
        "# Generate the distribution around noise\n",
        "point_x = np.median(states)     # x coordinate of a chosen sampled point\n",
        "y_mean = G(point_x, beta_0=3, beta_1=2)   # y coordinate at chosen sampled point\n",
        "y_range = torch.linspace(start=0.01, end=12, steps=500)\n",
        "norm_cdf = Normal(y_mean, noise).cdf(y_range).tolist()\n",
        "norm_pdf = np.diff(norm_cdf) / (y_range[1] - y_range[0])   # PDF = derivative of CDF\n",
        "norm_pdf[norm_pdf == 0] = np.nan\n",
        "norm_pdf = np.append(norm_pdf.numpy(), np.NaN)\n",
        "\n",
        "# Inverse mapping of point_x\n",
        "point_y = x_y_mapping(states, data, np.median(states))"
      ]
    },
    {
      "cell_type": "markdown",
      "metadata": {
        "id": "6XHgsbwQ6ieB"
      },
      "source": [
        "## Plot the data points.\n",
        "\n",
        "The plot is composed of multiple elements:\n",
        "1. The samples from the noisy generative process. These are just the data points we generated with the `environment()` function.\n",
        "2. The actual linear generating function (no noise). This is just the line $y= 2x+3$.\n",
        "3. A normal distribution around a chosen sampled point. This uses the median function to pick a point in the middle of the plot (just so the plot is centered). Then a distribution is drawn around it to indicate that points sampled on the line here could fall in $\\pm y$ range. To create the distribution we just create the CDF of the normal distribution at that point and then take the derivative to get the PDF.\n",
        "4. Dotted \"boundary lines\" are added to show the $x$ and $y$ coordinates around the point on the line.\n",
        "5. A red line is drawn to show how the noise has offset the point from the mean."
      ]
    },
    {
      "cell_type": "code",
      "execution_count": 8,
      "metadata": {
        "id": "bUu2XBKB6ieB",
        "outputId": "b47828c5-5967-44fd-b7fb-e512a53444d0",
        "colab": {
          "base_uri": "https://localhost:8080/",
          "height": 504
        }
      },
      "outputs": [
        {
          "output_type": "display_data",
          "data": {
            "text/plain": [
              "<Figure size 640x480 with 0 Axes>"
            ]
          },
          "metadata": {}
        },
        {
          "output_type": "display_data",
          "data": {
            "text/plain": [
              "<Figure size 640x480 with 1 Axes>"
            ],
            "image/png": "[encoded data removed]"
          },
          "metadata": {}
        }
      ],
      "source": [
        "fig = plt.figure()\n",
        "fig, ax = plt.subplots(1,1, facecolor=(1,1,1))\n",
        "\n",
        "# Plot (1): Samples from probabilistic generative process\n",
        "ax.scatter(states, data,\n",
        "           s=22,\n",
        "           c=\"maroon\")\n",
        "\n",
        "# Plot (2): Deterministic (linear) generating function\n",
        "ax.plot(x_range.tolist(), [G(elem, beta_0=3, beta_1=2) for elem in x_range],\n",
        "        c=\"gray\",\n",
        "        linewidth=3)\n",
        "\n",
        "# Plot (3): Normal distribution around the sampled point\n",
        "ax.plot(-norm_pdf + G_inv(y_mean, beta_0=3, beta_1=2), y_range,\n",
        "        c=\"blue\",\n",
        "        linewidth=3)\n",
        "\n",
        "# Plot (4): Boundary lines\n",
        "ax.hlines(y=y_mean, xmin=0, xmax=5,\n",
        "          linestyle=\"dashed\",\n",
        "          colors=\"black\",\n",
        "          linewidth=3)\n",
        "\n",
        "ax.vlines(x=G_inv(y_mean, beta_0=3, beta_1=2),\n",
        "          ymin=0, ymax=14,\n",
        "          linestyle=\"dashed\",\n",
        "          colors=\"black\",\n",
        "          linewidth=3)\n",
        "\n",
        "# Plot (5): Error/offset for the samples point\n",
        "ax.vlines(x=G_inv(y_mean, beta_0=3, beta_1=2),\n",
        "          ymin=point_y, ymax=y_mean,\n",
        "          colors=\"red\",\n",
        "          linewidth=3)\n",
        "\n",
        "# Axis labels and stylizing\n",
        "ax.set_xlabel(\"states (x)\", fontsize=18)\n",
        "ax.set_ylabel(\"observations (y)\", fontsize=18)\n",
        "ax.tick_params(\n",
        "    axis='both',\n",
        "    which='both',\n",
        "    bottom=False,\n",
        "    left=False,\n",
        "    labelbottom=False,\n",
        "    labelleft=False)\n",
        "\n",
        "fig.tight_layout()"
      ]
    }
  ],
  "metadata": {
    "interpreter": {
      "hash": "4ef4f69045848ab5f7382a317095b63ca81fc7ad7df0c81f4d0d17d279082c45"
    },
    "kernelspec": {
      "display_name": "Python 3.9.7 64-bit ('ds_env_1': conda)",
      "name": "python3"
    },
    "language_info": {
      "codemirror_mode": {
        "name": "ipython",
        "version": 3
      },
      "file_extension": ".py",
      "mimetype": "text/x-python",
      "name": "python",
      "nbconvert_exporter": "python",
      "pygments_lexer": "ipython3",
      "version": "3.9.13"
    },
    "orig_nbformat": 4,
    "colab": {
      "provenance": [],
      "toc_visible": true,
      "include_colab_link": true
    }
  },
  "nbformat": 4,
  "nbformat_minor": 0
}