{
  "nbformat": 4,
  "nbformat_minor": 0,
  "metadata": {
    "colab": {
      "provenance": [],
      "authorship_tag": "ABX9TyMaZ/VXXd7u1UwgmwtlPE9C",
      "include_colab_link": true
    },
    "kernelspec": {
      "name": "python3",
      "display_name": "Python 3"
    },
    "language_info": {
      "name": "python"
    }
  },
  "cells": [
    {
      "cell_type": "markdown",
      "metadata": {
        "id": "view-in-github",
        "colab_type": "text"
      },
      "source": [
        "<a href=\"https://colab.research.google.com/github/FrankHolzkamp/FundamentalsActiveInference/blob/main/POMDP.ipynb\" target=\"_parent\"><img src=\"https://colab.research.google.com/assets/colab-badge.svg\" alt=\"Open In Colab\"/></a>"
      ]
    },
    {
      "cell_type": "code",
      "execution_count": 1,
      "metadata": {
        "colab": {
          "base_uri": "https://localhost:8080/"
        },
        "id": "LfApuQxSjRrp",
        "outputId": "369770a9-26d5-441f-d36f-f273dea43b36"
      },
      "outputs": [
        {
          "output_type": "stream",
          "name": "stdout",
          "text": [
            "Optimal Policy:\n",
            "State (0, 0): right\n",
            "State (1, 0): up\n",
            "\n",
            "Value Function:\n",
            "State (0, 0): 10.00\n",
            "State (0, 1): 0.00\n",
            "State (1, 0): 9.00\n",
            "State (1, 1): 0.00\n"
          ]
        }
      ],
      "source": [
        "import numpy as np\n",
        "\n",
        "# Define the grid world environment\n",
        "states = [(0, 0), (0, 1), (1, 0), (1, 1)]  # Grid positions\n",
        "actions = ['up', 'down', 'left', 'right']\n",
        "rewards = {(0, 1): 10, (1, 1): -10}  # Rewards for reaching certain states\n",
        "terminal_states = [(0, 1), (1, 1)]\n",
        "\n",
        "# Define the transition probabilities\n",
        "def transition(state, action):\n",
        "    if state in terminal_states:\n",
        "        return state\n",
        "\n",
        "    x, y = state\n",
        "    if action == 'up':\n",
        "        x = max(x - 1, 0)\n",
        "    elif action == 'down':\n",
        "        x = min(x + 1, 1)\n",
        "    elif action == 'left':\n",
        "        y = max(y - 1, 0)\n",
        "    elif action == 'right':\n",
        "        y = min(y + 1, 1)\n",
        "\n",
        "    return (x, y)\n",
        "\n",
        "# Initialize value function and policy\n",
        "value_function = {state: 0 for state in states}\n",
        "policy = {state: np.random.choice(actions) for state in states if state not in terminal_states}\n",
        "\n",
        "# Parameters\n",
        "gamma = 0.9  # Discount factor\n",
        "theta = 0.0001  # Convergence threshold\n",
        "\n",
        "# Policy Evaluation\n",
        "def policy_evaluation(policy, value_function):\n",
        "    while True:\n",
        "        delta = 0\n",
        "        for state in states:\n",
        "            if state in terminal_states:\n",
        "                continue\n",
        "\n",
        "            v = value_function[state]\n",
        "            new_state = transition(state, policy[state])\n",
        "            reward = rewards.get(new_state, 0)\n",
        "            value_function[state] = reward + gamma * value_function[new_state]\n",
        "            delta = max(delta, abs(v - value_function[state]))\n",
        "\n",
        "        if delta < theta:\n",
        "            break\n",
        "\n",
        "# Policy Improvement\n",
        "def policy_improvement(policy, value_function):\n",
        "    policy_stable = True\n",
        "\n",
        "    for state in states:\n",
        "        if state in terminal_states:\n",
        "            continue\n",
        "\n",
        "        old_action = policy[state]\n",
        "        action_values = {}\n",
        "\n",
        "        for action in actions:\n",
        "            new_state = transition(state, action)\n",
        "            reward = rewards.get(new_state, 0)\n",
        "            action_values[action] = reward + gamma * value_function[new_state]\n",
        "\n",
        "        best_action = max(action_values, key=action_values.get)\n",
        "        policy[state] = best_action\n",
        "\n",
        "        if old_action != best_action:\n",
        "            policy_stable = False\n",
        "\n",
        "    return policy_stable\n",
        "\n",
        "# Policy Iteration\n",
        "def policy_iteration():\n",
        "    while True:\n",
        "        policy_evaluation(policy, value_function)\n",
        "        if policy_improvement(policy, value_function):\n",
        "            break\n",
        "\n",
        "policy_iteration()\n",
        "\n",
        "# Output the optimal policy and value function\n",
        "print(\"Optimal Policy:\")\n",
        "for state in states:\n",
        "    if state not in terminal_states:\n",
        "        print(f\"State {state}: {policy[state]}\")\n",
        "\n",
        "print(\"\\nValue Function:\")\n",
        "for state in states:\n",
        "    print(f\"State {state}: {value_function[state]:.2f}\")"
      ]
    }
  ]
}