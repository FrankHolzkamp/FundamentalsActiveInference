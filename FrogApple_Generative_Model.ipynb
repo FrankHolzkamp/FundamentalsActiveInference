{
  "nbformat": 4,
  "nbformat_minor": 0,
  "metadata": {
    "colab": {
      "provenance": [],
      "authorship_tag": "ABX9TyPIxVWsMGeHLZ1ydZQj+eWU",
      "include_colab_link": true
    },
    "kernelspec": {
      "name": "python3",
      "display_name": "Python 3"
    },
    "language_info": {
      "name": "python"
    }
  },
  "cells": [
    {
      "cell_type": "markdown",
      "metadata": {
        "id": "view-in-github",
        "colab_type": "text"
      },
      "source": [
        "<a href=\"https://colab.research.google.com/github/FrankHolzkamp/FundamentalsActiveInference/blob/main/FrogApple_Generative_Model.ipynb\" target=\"_parent\"><img src=\"https://colab.research.google.com/assets/colab-badge.svg\" alt=\"Open In Colab\"/></a>"
      ]
    },
    {
      "cell_type": "code",
      "execution_count": null,
      "metadata": {
        "colab": {
          "base_uri": "https://localhost:8080/"
        },
        "id": "uG7-fG6QaHgR",
        "outputId": "c9bd0a1b-e0a9-435c-c221-4a231119e5ad"
      },
      "outputs": [
        {
          "output_type": "stream",
          "name": "stdout",
          "text": [
            "0.25\n",
            "0.972\n"
          ]
        }
      ],
      "source": [
        "# prior\n",
        "prior_apple=0.9\n",
        "prior_frog=0.1\n",
        "\n",
        "# likelihood model\n",
        "p_apple_jumps = 0.01\n",
        "p_apple_not_jumps = 0.99\n",
        "p_frog_jumps = 0.81\n",
        "p_frog_not_jumps = 0.19\n",
        "\n",
        "# evidence e = \"jumps\" P(e)?\n",
        "# P(x = frog)P(e = jumps| x = frog) + P(x = apple)P(e = jumps|x=apple)\n",
        "p_jumps = prior_frog * p_frog_jumps + prior_apple * p_apple_jumps\n",
        "print(p_jumps)\n",
        "\n",
        "#posterior apple given jumps\n",
        "posterior_frog = (prior_frog * p_frog_jumps)/p_jumps\n",
        "print(posterior_frog)\n",
        "\n"
      ]
    }
  ]
}