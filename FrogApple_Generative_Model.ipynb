{
  "nbformat": 4,
  "nbformat_minor": 0,
  "metadata": {
    "colab": {
      "provenance": [],
      "authorship_tag": "ABX9TyMlWIL9lNPax1VN6D4Tgjmm",
      "include_colab_link": true
    },
    "kernelspec": {
      "name": "python3",
      "display_name": "Python 3"
    },
    "language_info": {
      "name": "python"
    }
  },
  "cells": [
    {
      "cell_type": "markdown",
      "metadata": {
        "id": "view-in-github",
        "colab_type": "text"
      },
      "source": [
        "<a href=\"https://colab.research.google.com/github/FrankHolzkamp/FundamentalsActiveInference/blob/main/FrogApple_Generative_Model.ipynb\" target=\"_parent\"><img src=\"https://colab.research.google.com/assets/colab-badge.svg\" alt=\"Open In Colab\"/></a>"
      ]
    },
    {
      "cell_type": "code",
      "execution_count": 1,
      "metadata": {
        "colab": {
          "base_uri": "https://localhost:8080/"
        },
        "id": "uG7-fG6QaHgR",
        "outputId": "f793f4fd-f47c-4ecb-b027-64ecf5d5df7e"
      },
      "outputs": [
        {
          "output_type": "stream",
          "name": "stdout",
          "text": [
            "0.9\n"
          ]
        }
      ],
      "source": [
        "# prior\n",
        "p_apple = 0.1\n",
        "p_frog =0.9\n",
        "\n",
        "# likelihood model\n",
        "p_apple_jumps = 0.01\n",
        "p_apple_not_jumps = 0.99\n",
        "p_frog_jumps = 0.81\n",
        "p_frog_not_jumps = 0.19\n"
      ]
    }
  ]
}